{
 "cells": [
  {
   "cell_type": "code",
   "execution_count": 1,
   "metadata": {},
   "outputs": [
    {
     "name": "stdout",
     "output_type": "stream",
     "text": [
      "{\"name\": {\"first\": \"Robert\", \"last\": \"Smith\"}, \"age\": 25, \"hobbies\": [\"running\", \"coding\"], \"education\": {\"college\": \"Yale\"}}\n"
     ]
    }
   ],
   "source": [
    "import requests\n",
    "import json\n",
    "\n",
    "def jsonapiclean():\n",
    "  req = requests.get('https://coderbyte.com/api/challenges/json/json-cleaning')\n",
    "  return req.json()\n",
    "\n",
    "results = jsonapiclean()\n",
    "\n",
    "for key, values in list(results.items()):\n",
    "    if isinstance(values, list):\n",
    "        for item in values:\n",
    "            if item in ['','N/A', '-']:\n",
    "                values.remove(item)\n",
    "    elif isinstance(values, dict):\n",
    "        for key, value in list(values.items()):\n",
    "            if value in ['', 'N/A','-']:\n",
    "                del values[key]\n",
    "    elif values in ['', 'N/A', '-']:\n",
    "        del results[key]\n",
    "print(json.dumps(results))"
   ]
  },
  {
   "cell_type": "code",
   "execution_count": null,
   "metadata": {},
   "outputs": [],
   "source": []
  }
 ],
 "metadata": {
  "interpreter": {
   "hash": "31f2aee4e71d21fbe5cf8b01ff0e069b9275f58929596ceb00d14d90e3e16cd6"
  },
  "kernelspec": {
   "display_name": "Python 3.8.9 64-bit",
   "name": "python3"
  },
  "language_info": {
   "codemirror_mode": {
    "name": "ipython",
    "version": 3
   },
   "file_extension": ".py",
   "mimetype": "text/x-python",
   "name": "python",
   "nbconvert_exporter": "python",
   "pygments_lexer": "ipython3",
   "version": "3.8.9"
  },
  "orig_nbformat": 4
 },
 "nbformat": 4,
 "nbformat_minor": 2
}
